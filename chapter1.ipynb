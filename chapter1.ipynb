{
 "cells": [
  {
   "cell_type": "code",
   "execution_count": 3,
   "metadata": {},
   "outputs": [
    {
     "name": "stdout",
     "output_type": "stream",
     "text": [
      "Please enter n:6\n",
      "Please enter m:3\n"
     ]
    },
    {
     "data": {
      "text/plain": [
       "True"
      ]
     },
     "execution_count": 3,
     "metadata": {},
     "output_type": "execute_result"
    }
   ],
   "source": [
    "# R-1.1 编写一个Python函数is_multiple(n,m), 用来接收两个整数值m和n, 如果n是m的倍数，即存在整数 i 使得 n=im, 那么函数返回True，否则返回False\n",
    "\n",
    "def is_multiple(n, m):\n",
    "    if isinstance(n, int) and isinstance(m, int):\n",
    "        if m != 0 and n != 0:\n",
    "            if n % m == 0:\n",
    "                return True\n",
    "            else:\n",
    "                return False\n",
    "        else:\n",
    "            print('Please enter non-zero number!')\n",
    "    else:\n",
    "        print('Please enter int value! ')\n",
    "\n",
    "n = int(input(\"Please enter n:\")) \n",
    "m = int(input(\"Please enter m:\"))\n",
    "is_multiple(n, m)\n",
    "            "
   ]
  },
  {
   "cell_type": "code",
   "execution_count": 6,
   "metadata": {},
   "outputs": [
    {
     "name": "stdout",
     "output_type": "stream",
     "text": [
      "True False\n"
     ]
    }
   ],
   "source": [
    "# R-1.2 编写一个python函数 is_even(k)，用来接收一个整数k,如果k是偶数返回True，否则返回False，但是函数中不能使用乘法，除法或取余操作。\n",
    "\n",
    "def is_even(k):\n",
    "    while k > 0:\n",
    "        k -= 2\n",
    "        if k == 0:\n",
    "            return True\n",
    "    return False\n",
    "\n",
    "print(is_even(4),is_even(3) )"
   ]
  },
  {
   "cell_type": "code",
   "execution_count": 7,
   "metadata": {},
   "outputs": [
    {
     "data": {
      "text/plain": [
       "(-19, 23)"
      ]
     },
     "execution_count": 7,
     "metadata": {},
     "output_type": "execute_result"
    }
   ],
   "source": [
    "# R-1.3 编写一个python函数minmax(data),用来在数的序列中找出最小值和最大值，并以一个长度为2的元组形式返回。注意不能通过内置函数min和max。\n",
    "\n",
    "def minmax(data):\n",
    "    min_index = 0\n",
    "    max_index = 0\n",
    "    for i in range(len(data)):\n",
    "        if data[i] < data[min_index]:\n",
    "            min_index = i\n",
    "        if data[i] > data[max_index]:\n",
    "            max_index = i\n",
    "            \n",
    "    return (data[min_index], data[max_index])\n",
    "\n",
    "data = [2, 7, 9, 8, 9, 1, -19, 23]\n",
    "minmax(data)\n",
    "        \n"
   ]
  },
  {
   "cell_type": "code",
   "execution_count": 11,
   "metadata": {},
   "outputs": [
    {
     "data": {
      "text/plain": [
       "385"
      ]
     },
     "execution_count": 11,
     "metadata": {},
     "output_type": "execute_result"
    }
   ],
   "source": [
    "# R-1.4 编写一个python函数，用来接收正整数n,返回1到n 的平方和\n",
    "\n",
    "def func(n):\n",
    "    sum = 0\n",
    "    for i in range(1, n+1):\n",
    "        sum += i**2\n",
    "    return sum\n",
    "\n",
    "func(10)"
   ]
  },
  {
   "cell_type": "code",
   "execution_count": 21,
   "metadata": {},
   "outputs": [
    {
     "data": {
      "text/plain": [
       "385"
      ]
     },
     "execution_count": 21,
     "metadata": {},
     "output_type": "execute_result"
    }
   ],
   "source": [
    "# R-1.5基于Python的解析语法和内置函数sum,写一个单独的命令来计算练习R-1.4中的和\n",
    "\n",
    "def func2(n):\n",
    "    temp = [i**2 for i in range(1, n+1)]\n",
    "    temp = sum(temp)\n",
    "    return temp\n",
    "\n",
    "func2(10)"
   ]
  },
  {
   "cell_type": "code",
   "execution_count": 18,
   "metadata": {},
   "outputs": [
    {
     "data": {
      "text/plain": [
       "10"
      ]
     },
     "execution_count": 18,
     "metadata": {},
     "output_type": "execute_result"
    }
   ],
   "source": [
    "#  R-1.6编写一个Python函数，用来接收正整数，并返回1到n中所有奇数的平方和。\n",
    "\n",
    "def func3(n):\n",
    "    sum = 0\n",
    "    for i in range(1, n +1, 2):\n",
    "        sum += i**2\n",
    "    return sum\n",
    "\n",
    "func3(3)\n",
    "        "
   ]
  },
  {
   "cell_type": "code",
   "execution_count": 24,
   "metadata": {},
   "outputs": [
    {
     "data": {
      "text/plain": [
       "10"
      ]
     },
     "execution_count": 24,
     "metadata": {},
     "output_type": "execute_result"
    }
   ],
   "source": [
    "# R-1.7 基于Python的解析语法和内置函数sum,写一个单独的命令来计算练习R-1.6中的和。\n",
    "\n",
    "def func(n):\n",
    "    temp = [i**2 for i in range(1, n+1) if i%2 == 1]\n",
    "    temp = sum(temp)\n",
    "    return temp\n",
    "\n",
    "func(3)\n",
    "    \n",
    "\n"
   ]
  },
  {
   "cell_type": "code",
   "execution_count": 28,
   "metadata": {},
   "outputs": [
    {
     "data": {
      "text/plain": [
       "('i', 'i')"
      ]
     },
     "execution_count": 28,
     "metadata": {},
     "output_type": "execute_result"
    }
   ],
   "source": [
    "# R-1.8 Python 允许负整数作为序列的索引值，如一个长度为n的字符串，当索引值 -n <= k < 0时， 所指的元素为s[k]，那么求一个整数索引值j > = 0, 使得s[j]指向的也是相同的元素\n",
    "def func(str_list, k):\n",
    "    return (str_list[k], str_list[len(str_list)+k])\n",
    "\n",
    "func('abcdefghijk', -3)"
   ]
  },
  {
   "cell_type": "code",
   "execution_count": 29,
   "metadata": {},
   "outputs": [
    {
     "name": "stdout",
     "output_type": "stream",
     "text": [
      "[50, 60, 70, 80]\n"
     ]
    }
   ],
   "source": [
    "# R-1.9 要生成一个值为50，60，70，80 的排列，求range构造函数中的参数。\n",
    "\n",
    "alist = [(i + 4)*10 for i in range(1, 5)]\n",
    "print(alist)"
   ]
  },
  {
   "cell_type": "code",
   "execution_count": 30,
   "metadata": {},
   "outputs": [
    {
     "name": "stdout",
     "output_type": "stream",
     "text": [
      "[8, 6, 4, 2, 0, -2, -4, -6, -8]\n"
     ]
    }
   ],
   "source": [
    "# R-1.10 要生成一个值为8，6，4，2，0，-2，-4，-6，-8的排列，求range构造函数中的参数。\n",
    "alist = [-i*2 for i in range(-4, 5)]\n",
    "print(alist)"
   ]
  },
  {
   "cell_type": "code",
   "execution_count": 32,
   "metadata": {},
   "outputs": [
    {
     "name": "stdout",
     "output_type": "stream",
     "text": [
      "[1, 2, 4, 8, 16, 32, 64, 128, 256]\n"
     ]
    }
   ],
   "source": [
    "# R-1.11演示真用功使用python列表解析语法产生列表[1, 2, 4, 8, 16, 32, 64, 128, 256]\n",
    "\n",
    "alist = [2**i for i in range(0, 9)]\n",
    "print(alist)"
   ]
  },
  {
   "cell_type": "code",
   "execution_count": 5,
   "metadata": {},
   "outputs": [],
   "source": [
    "# R-1.12 Python中的random模块包括一个函数choice(data),可以从一个非空序列返回一个随机元素，Random模块还包含一个更基本的randrange函数, 参数化类似与内置的range函数，可以在给定范围内返回一个随机数。\n",
    "import random as rd\n",
    "data = [3, 4, 8, 92, 3, 984, 20, 3035, 33, 9]\n",
    "# print(rd.choice(data))\n",
    "\n",
    "def func(data):\n",
    "    def minmax(data):\n",
    "        min_index = 0\n",
    "        max_index = 0\n",
    "        for i in range(len(data)):\n",
    "            if data[i] < data[min_index]:\n",
    "                min_index = i\n",
    "            if data[i] > data[max_index]:\n",
    "                max_index = i\n",
    "        return data[min_index], data[max_index]\n",
    "    \n",
    "    def find_it(value, data):\n",
    "        for i in range(len(data)):\n",
    "            if value == data[i]:\n",
    "                return True\n",
    "            else:\n",
    "                return False\n",
    "    \n",
    "    def func_choice(data):\n",
    "        min_value, max_value = minmax(data)\n",
    "        choice_value = int(rd.randrange(min_value, max_value+1 ))\n",
    "        result = find_it(choice_value, data)\n",
    "        while result == False:\n",
    "            choice_value = int(rd.randrange(min_value, max_value+1 ))\n",
    "            result = find_it(choice_value, data)\n",
    "        return choice_value\n",
    "    \n",
    "    func_choice(data)\n",
    "            \n",
    "func(data)\n"
   ]
  },
  {
   "cell_type": "code",
   "execution_count": 4,
   "metadata": {},
   "outputs": [
    {
     "name": "stdout",
     "output_type": "stream",
     "text": [
      "3 3035\n",
      "678\n",
      "678\n"
     ]
    }
   ],
   "source": [
    "import random as rd\n",
    "\n",
    "data = [3, 4, 8, 92, 3, 984, 20, 3035, 33, 9]\n",
    "def func(data):\n",
    "    def minmax(data):\n",
    "        min_index = 0\n",
    "        max_index = 0\n",
    "        for i in range(len(data)):\n",
    "            if data[i] < data[min_index]:\n",
    "                min_index = i\n",
    "            if data[i] > data[max_index]:\n",
    "                max_index = i\n",
    "        return data[min_index], data[max_index]\n",
    "    \n",
    "    min_value, max_value = minmax(data)\n",
    "    print(min_value, max_value)\n",
    "    choice_value = rd.randrange(int(min_value), int(max_value))\n",
    "    print(choice_value)\n",
    "    return choice_value\n",
    "\n",
    "print(func(data))"
   ]
  },
  {
   "cell_type": "code",
   "execution_count": 10,
   "metadata": {},
   "outputs": [
    {
     "name": "stdout",
     "output_type": "stream",
     "text": [
      "3 3035\n"
     ]
    },
    {
     "data": {
      "text/plain": [
       "20"
      ]
     },
     "execution_count": 10,
     "metadata": {},
     "output_type": "execute_result"
    }
   ],
   "source": [
    "import random as rd\n",
    "\n",
    "data = [3, 4, 8, 92, 3, 984, 20, 3035, 33, 9]\n",
    "def func(data):\n",
    "    def minmax(data):\n",
    "        min_index = 0\n",
    "        max_index = 0\n",
    "        for i in range(len(data)):\n",
    "            if data[i] < data[min_index]:\n",
    "                min_index = i\n",
    "            if data[i] > data[max_index]:\n",
    "                max_index = i\n",
    "        return data[min_index], data[max_index]\n",
    "    \n",
    "    min_value, max_value = minmax(data)\n",
    "    print(min_value, max_value)\n",
    "    result = False\n",
    "    while result == False:\n",
    "        # print('stupid!')\n",
    "        choice_value = rd.randrange(min_value, max_value)\n",
    "        for i in range(len(data)):\n",
    "            if choice_value == data[i]:\n",
    "                result = True\n",
    "                break\n",
    "    return choice_value\n",
    "            \n",
    "func(data)    "
   ]
  },
  {
   "cell_type": "code",
   "execution_count": 12,
   "metadata": {},
   "outputs": [
    {
     "name": "stdout",
     "output_type": "stream",
     "text": [
      "3 3035\n",
      "20\n"
     ]
    }
   ],
   "source": [
    "import random as rd\n",
    "\n",
    "data = [3, 4, 8, 92, 3, 984, 20, 3035, 33, 9]\n",
    "def func(data):\n",
    "    def minmax(data):\n",
    "        min_index = 0\n",
    "        max_index = 0\n",
    "        for i in range(len(data)):\n",
    "            if data[i] < data[min_index]:\n",
    "                min_index = i\n",
    "            if data[i] > data[max_index]:\n",
    "                max_index = i\n",
    "        return data[min_index], data[max_index]\n",
    "    \n",
    "    min_value, max_value = minmax(data)\n",
    "    print(min_value, max_value)\n",
    "    result = False\n",
    "    while result == False:\n",
    "        # print('stupid!')\n",
    "        choice_value = rd.randrange(min_value, max_value)\n",
    "        for i in range(len(data)):\n",
    "            if choice_value == data[i]:\n",
    "                result = True\n",
    "                break\n",
    "    return choice_value\n",
    "\n",
    "if __name__ == '__main__':\n",
    "    print(func(data))    "
   ]
  },
  {
   "cell_type": "code",
   "execution_count": 13,
   "metadata": {},
   "outputs": [
    {
     "data": {
      "text/plain": [
       "[9, 33, 3035, 20, 984, 3, 92, 8, 4, 3]"
      ]
     },
     "execution_count": 13,
     "metadata": {},
     "output_type": "execute_result"
    }
   ],
   "source": [
    "# C-1.13 编写一个函数的伪代码描述，该函数用来逆置n个整数的列表，是这些数以后以相反的顺序输出，并将该方法和可以实现相同功能的python函数比较。\n",
    "\n",
    "def func(alist):\n",
    "    mid = len(alist)//2\n",
    "    for i in range(mid):\n",
    "        alist[i], alist[-i-1] = alist[-i-1], alist[i]\n",
    "    return alist\n",
    "alist = [3, 4, 8, 92, 3, 984, 20, 3035, 33, 9]\n",
    "func(alist)"
   ]
  },
  {
   "cell_type": "code",
   "execution_count": 18,
   "metadata": {},
   "outputs": [
    {
     "data": {
      "text/plain": [
       "'YES'"
      ]
     },
     "execution_count": 18,
     "metadata": {},
     "output_type": "execute_result"
    }
   ],
   "source": [
    "# C-1.14 编写一个python函数，用来接收一个整数序列，并判断该序列中是否存在一对乘积是奇数的互不相同的数。\n",
    "\n",
    "def func(alist):\n",
    "    for i in range(len(alist)):\n",
    "        for j in range(len(alist)):\n",
    "            if alist[i]*alist[j] % 2 == 1 and alist[i] != alist[j]:\n",
    "                return 'YES'\n",
    "\n",
    "alist = [3, 4, 8, 92, 3, 984, 20, 3035, 33, 9]\n",
    "func(alist)"
   ]
  },
  {
   "cell_type": "code",
   "execution_count": 21,
   "metadata": {},
   "outputs": [
    {
     "data": {
      "text/plain": [
       "'NO'"
      ]
     },
     "execution_count": 21,
     "metadata": {},
     "output_type": "execute_result"
    }
   ],
   "source": [
    "# C-1.15编写一个Python函数，用来接收一个数字序列，并判断是否所有数字都互不相同（即他们是不同的）\n",
    "\n",
    "def func(alist):\n",
    "    for i in range(len(alist)):\n",
    "        for j in range(len(alist)):\n",
    "            if i == j:\n",
    "                pass\n",
    "            else:\n",
    "                if alist[i] == alist[j]:\n",
    "                    return 'NO'\n",
    "    return 'YES'\n",
    "\n",
    "alist = [3, 4, 8, 92,3, 984, 20, 3035, 33, 9]\n",
    "func(alist)"
   ]
  },
  {
   "cell_type": "code",
   "execution_count": 2,
   "metadata": {},
   "outputs": [
    {
     "name": "stdout",
     "output_type": "stream",
     "text": [
      "[0, 2, 6, 12, 20, 30, 42, 56, 72, 90]\n"
     ]
    }
   ],
   "source": [
    "# C-1.18 演示如何用python列表解析语法来产生列表[0, 2, 6, 12, 20, 30, 42, 56, 72, 90]\n",
    "\n",
    "alist = [i*(i+1) for i in range(10)]\n",
    "print(alist)"
   ]
  },
  {
   "cell_type": "code",
   "execution_count": 11,
   "metadata": {},
   "outputs": [
    {
     "name": "stdout",
     "output_type": "stream",
     "text": [
      "['a', 'b', 'c', 'd', 'e', 'f', 'g', 'h', 'i', 'j', 'k', 'l', 'm', 'n', 'o', 'p', 'q', 'r', 's', 't', 'u', 'v', 'w', 'x', 'y', 'z']\n"
     ]
    }
   ],
   "source": [
    "# C-1.19 演示如何使用python列表解析语法在不输入所有26个英文字母的情况下产生列表['a', 'b', 'c', ...'z']\n",
    "\n",
    "alist = [chr(i) for i in range(97, 123)]\n",
    "print(alist)"
   ]
  },
  {
   "cell_type": "code",
   "execution_count": 19,
   "metadata": {},
   "outputs": [
    {
     "name": "stdout",
     "output_type": "stream",
     "text": [
      "['a', 'b', 'c', 'd', 'e', 'f', 'g', 'h', 'i', 'j', 'k', 'l', 'm', 'n', 'o', 'p', 'q', 'r', 's', 't', 'u', 'v', 'w', 'x', 'y', 'z']\n"
     ]
    }
   ],
   "source": [
    "# C-1.19 演示如何使用python列表解析语法在不输入所有26个英文字母的情况下产生列表['a', 'b', 'c', ...'z']\n",
    "\n",
    "alist = [chr(i) for i in range(ord('a'), ord('a')+26)]\n",
    "print(alist)"
   ]
  },
  {
   "cell_type": "code",
   "execution_count": 26,
   "metadata": {},
   "outputs": [
    {
     "name": "stdout",
     "output_type": "stream",
     "text": [
      "[3, 4, 8, 92, 3, 984, 20, 3035, 33, 9]\n"
     ]
    }
   ],
   "source": [
    "# C-1.20 Python的random模块包括一个函数shuffle(data),它可以接收一个元素的列表和一个随机的重新排列元素，以使每个可能的序列发生概率相等。\n"
   ]
  },
  {
   "cell_type": "code",
   "execution_count": null,
   "metadata": {},
   "outputs": [],
   "source": [
    "# C-1.21 编写一个python程序，反复从标准输入读取一行直到抛出EOFError异常，然后以相反的顺序输出这些行。\n"
   ]
  },
  {
   "cell_type": "code",
   "execution_count": 28,
   "metadata": {},
   "outputs": [
    {
     "name": "stdout",
     "output_type": "stream",
     "text": [
      "[ 2  3 10  8  6]\n"
     ]
    }
   ],
   "source": [
    "# C-1.22 编写一个python程序，用来接收长度为n的两个整型数组 a 和 b。并返回a和 b 的点积。也就是返回一个长度为n 的数组c。\n",
    "import numpy as np\n",
    "\n",
    "def func(a, b):\n",
    "    if len(a) == len(b):\n",
    "        a = np.array(a)\n",
    "        b = np.array(b)\n",
    "        c = a*b\n",
    "        return c\n",
    "    else:\n",
    "        print('The length of of list should be the same!')\n",
    "        \n",
    "        \n",
    "if __name__ == '__main__':\n",
    "    a = [1, 3, 5, 4, 6 ]\n",
    "    b = [2, 1, 2, 2, 1 ]\n",
    "    result = func(a, b)\n",
    "    print(result)"
   ]
  },
  {
   "cell_type": "code",
   "execution_count": 30,
   "metadata": {},
   "outputs": [
    {
     "name": "stdout",
     "output_type": "stream",
     "text": [
      "5\n"
     ]
    }
   ],
   "source": [
    "# C-1.24 编写一个Python函数，计算所给字符串中元音字母的个数。\n",
    "\n",
    "def func(alist):\n",
    "    str_list = ['a', 'e', 'i', 'o', 'u']\n",
    "    num = 0\n",
    "    for i in range(len(alist)):\n",
    "        for j in range(len(str_list)):\n",
    "            if alist[i] == str_list[j]:\n",
    "                num += 1\n",
    "    return num\n",
    "\n",
    "if __name__ == '__main__':\n",
    "    alist = 'ajognlajhgojghpa'\n",
    "    result = func(alist)\n",
    "    print(result)\n",
    "        "
   ]
  },
  {
   "cell_type": "code",
   "execution_count": null,
   "metadata": {},
   "outputs": [],
   "source": [
    "# C-1.26\"\"\"编写一个程序，需要从控制台输入三个整数，a, b, c, 并确定他们是否可以在一个正确的算术公式下成立，如 a + b = c, a = b -c 或 a * b = c\"\"\"\n",
    "\n",
    "def func(a, b,c):\n",
    "    if a + b == c:\n",
    "        return 'a + b = c'\n",
    "    elif a == b -c:\n",
    "        return 'a = b -c'\n",
    "    elif a*b == c:\n",
    "        return 'a * b = c'\n",
    "    else: \n",
    "        return 'There is no result!'\n",
    "\n",
    "if __name__ == '__main__':\n",
    "    a, b, c = 2, 5, 10\n",
    "    result = func(a, b, c)\n",
    "    print(result)"
   ]
  },
  {
   "cell_type": "code",
   "execution_count": null,
   "metadata": {},
   "outputs": [],
   "source": []
  }
 ],
 "metadata": {
  "kernelspec": {
   "display_name": "Python 3",
   "language": "python",
   "name": "python3"
  },
  "language_info": {
   "codemirror_mode": {
    "name": "ipython",
    "version": 3
   },
   "file_extension": ".py",
   "mimetype": "text/x-python",
   "name": "python",
   "nbconvert_exporter": "python",
   "pygments_lexer": "ipython3",
   "version": "3.7.3"
  }
 },
 "nbformat": 4,
 "nbformat_minor": 2
}
