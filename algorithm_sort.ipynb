{
 "cells": [
  {
   "cell_type": "code",
   "execution_count": 1,
   "metadata": {},
   "outputs": [
    {
     "data": {
      "text/plain": [
       "[2, 10, 11, 12, 27, 29, 38, 98]"
      ]
     },
     "execution_count": 1,
     "metadata": {},
     "output_type": "execute_result"
    }
   ],
   "source": [
    "# 冒泡排序\n",
    "\n",
    "def bubble_sort(alist):\n",
    "    for i in range(len(alist)-1):\n",
    "        for j in range(len(alist)-i-1):\n",
    "            if alist[j] > alist[j+1]:\n",
    "                alist[j], alist[j+1] = alist[j+1], alist[j]\n",
    "    return alist\n",
    "\n",
    "alist = [2, 38, 27, 29, 98, 11, 12, 10]\n",
    "bubble_sort(alist)\n",
    "        "
   ]
  },
  {
   "cell_type": "code",
   "execution_count": 4,
   "metadata": {},
   "outputs": [
    {
     "data": {
      "text/plain": [
       "[2, 10, 11, 12, 27, 29, 38, 98]"
      ]
     },
     "execution_count": 4,
     "metadata": {},
     "output_type": "execute_result"
    }
   ],
   "source": [
    "# 选择排序\n",
    "\n",
    "def selection_sort(alist):\n",
    "    for i in range(len(alist)):\n",
    "        min_index = i\n",
    "        for j in range(i+1,len(alist) ):\n",
    "            if alist[j] < alist[min_index]:\n",
    "                min_index = j\n",
    "        alist[min_index], alist[i] = alist[i], alist[min_index]\n",
    "    return alist\n",
    "\n",
    "alist = [2, 38, 27, 29, 98, 11, 12, 10]\n",
    "selection_sort(alist)"
   ]
  },
  {
   "cell_type": "code",
   "execution_count": 6,
   "metadata": {},
   "outputs": [
    {
     "data": {
      "text/plain": [
       "[2, 10, 11, 12, 27, 29, 38, 98]"
      ]
     },
     "execution_count": 6,
     "metadata": {},
     "output_type": "execute_result"
    }
   ],
   "source": [
    "# 插入排序\n",
    "\n",
    "def insert_sort(alist):\n",
    "    for i in range(1, len(alist)):\n",
    "        key = alist[i]\n",
    "        j = i - 1\n",
    "        while j > 0 and alist[j] > key:\n",
    "            alist[j + 1] = alist[j]\n",
    "            j -= 1\n",
    "        alist[j+1] = key\n",
    "    return alist\n",
    "alist = [2, 38, 27, 29, 98, 11, 12, 10]\n",
    "insert_sort(alist)"
   ]
  },
  {
   "cell_type": "code",
   "execution_count": null,
   "metadata": {},
   "outputs": [],
   "source": []
  }
 ],
 "metadata": {
  "kernelspec": {
   "display_name": "Python 3",
   "language": "python",
   "name": "python3"
  },
  "language_info": {
   "codemirror_mode": {
    "name": "ipython",
    "version": 3
   },
   "file_extension": ".py",
   "mimetype": "text/x-python",
   "name": "python",
   "nbconvert_exporter": "python",
   "pygments_lexer": "ipython3",
   "version": "3.7.3"
  }
 },
 "nbformat": 4,
 "nbformat_minor": 2
}
